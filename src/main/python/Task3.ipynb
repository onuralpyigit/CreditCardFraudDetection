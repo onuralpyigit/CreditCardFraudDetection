{
 "cells": [
  {
   "cell_type": "markdown",
   "metadata": {},
   "source": [
    "## Credit Card Fraud Detection - Task3"
   ]
  },
  {
   "cell_type": "markdown",
   "metadata": {},
   "source": [
    "### Load transaction data"
   ]
  },
  {
   "cell_type": "code",
   "execution_count": 14,
   "metadata": {
    "collapsed": false,
    "scrolled": true
   },
   "outputs": [
    {
     "data": {
      "text/html": [
       "<div>\n",
       "<table border=\"1\" class=\"dataframe\">\n",
       "  <thead>\n",
       "    <tr style=\"text-align: right;\">\n",
       "      <th></th>\n",
       "      <th>DateTime</th>\n",
       "      <th>Amount</th>\n",
       "      <th>Class</th>\n",
       "      <th>year</th>\n",
       "      <th>month</th>\n",
       "      <th>day</th>\n",
       "      <th>hour</th>\n",
       "      <th>minute</th>\n",
       "      <th>CardKind</th>\n",
       "      <th>CardLimit</th>\n",
       "      <th>CardHomeLocation</th>\n",
       "      <th>CustomerNo</th>\n",
       "      <th>TerminalKind</th>\n",
       "      <th>TerminalMerchant</th>\n",
       "      <th>TerminalLocation</th>\n",
       "      <th>SameLocation</th>\n",
       "      <th>InternationalTransaction</th>\n",
       "      <th>OnlineTransaction</th>\n",
       "      <th>LocalTransaction</th>\n",
       "      <th>OverAverageMerchantAmount</th>\n",
       "    </tr>\n",
       "  </thead>\n",
       "  <tbody>\n",
       "    <tr>\n",
       "      <th>0</th>\n",
       "      <td>2018-06-10 04:06:00</td>\n",
       "      <td>1499</td>\n",
       "      <td>0</td>\n",
       "      <td>2018</td>\n",
       "      <td>6</td>\n",
       "      <td>10</td>\n",
       "      <td>4</td>\n",
       "      <td>6</td>\n",
       "      <td>1</td>\n",
       "      <td>2</td>\n",
       "      <td>43</td>\n",
       "      <td>31003</td>\n",
       "      <td>0</td>\n",
       "      <td>0</td>\n",
       "      <td>43</td>\n",
       "      <td>1</td>\n",
       "      <td>0</td>\n",
       "      <td>0</td>\n",
       "      <td>1</td>\n",
       "      <td>0</td>\n",
       "    </tr>\n",
       "    <tr>\n",
       "      <th>1</th>\n",
       "      <td>2018-06-10 04:06:00</td>\n",
       "      <td>1852</td>\n",
       "      <td>0</td>\n",
       "      <td>2018</td>\n",
       "      <td>6</td>\n",
       "      <td>10</td>\n",
       "      <td>4</td>\n",
       "      <td>6</td>\n",
       "      <td>1</td>\n",
       "      <td>1</td>\n",
       "      <td>17</td>\n",
       "      <td>60087</td>\n",
       "      <td>1</td>\n",
       "      <td>1</td>\n",
       "      <td>17</td>\n",
       "      <td>1</td>\n",
       "      <td>0</td>\n",
       "      <td>0</td>\n",
       "      <td>1</td>\n",
       "      <td>0</td>\n",
       "    </tr>\n",
       "    <tr>\n",
       "      <th>2</th>\n",
       "      <td>2018-06-10 04:06:00</td>\n",
       "      <td>4939</td>\n",
       "      <td>0</td>\n",
       "      <td>2018</td>\n",
       "      <td>6</td>\n",
       "      <td>10</td>\n",
       "      <td>4</td>\n",
       "      <td>6</td>\n",
       "      <td>1</td>\n",
       "      <td>1</td>\n",
       "      <td>73</td>\n",
       "      <td>67621</td>\n",
       "      <td>1</td>\n",
       "      <td>5</td>\n",
       "      <td>99</td>\n",
       "      <td>0</td>\n",
       "      <td>0</td>\n",
       "      <td>1</td>\n",
       "      <td>0</td>\n",
       "      <td>1</td>\n",
       "    </tr>\n",
       "    <tr>\n",
       "      <th>3</th>\n",
       "      <td>2018-06-10 04:06:00</td>\n",
       "      <td>4616</td>\n",
       "      <td>1</td>\n",
       "      <td>2018</td>\n",
       "      <td>6</td>\n",
       "      <td>10</td>\n",
       "      <td>4</td>\n",
       "      <td>6</td>\n",
       "      <td>1</td>\n",
       "      <td>1</td>\n",
       "      <td>65</td>\n",
       "      <td>49453</td>\n",
       "      <td>0</td>\n",
       "      <td>0</td>\n",
       "      <td>65</td>\n",
       "      <td>1</td>\n",
       "      <td>0</td>\n",
       "      <td>0</td>\n",
       "      <td>1</td>\n",
       "      <td>1</td>\n",
       "    </tr>\n",
       "    <tr>\n",
       "      <th>4</th>\n",
       "      <td>2018-06-10 04:06:00</td>\n",
       "      <td>2447</td>\n",
       "      <td>0</td>\n",
       "      <td>2018</td>\n",
       "      <td>6</td>\n",
       "      <td>10</td>\n",
       "      <td>4</td>\n",
       "      <td>6</td>\n",
       "      <td>1</td>\n",
       "      <td>1</td>\n",
       "      <td>22</td>\n",
       "      <td>39015</td>\n",
       "      <td>1</td>\n",
       "      <td>5</td>\n",
       "      <td>12</td>\n",
       "      <td>0</td>\n",
       "      <td>0</td>\n",
       "      <td>0</td>\n",
       "      <td>1</td>\n",
       "      <td>0</td>\n",
       "    </tr>\n",
       "  </tbody>\n",
       "</table>\n",
       "</div>"
      ],
      "text/plain": [
       "              DateTime  Amount  Class  year  month  day  hour  minute  \\\n",
       "0  2018-06-10 04:06:00    1499      0  2018      6   10     4       6   \n",
       "1  2018-06-10 04:06:00    1852      0  2018      6   10     4       6   \n",
       "2  2018-06-10 04:06:00    4939      0  2018      6   10     4       6   \n",
       "3  2018-06-10 04:06:00    4616      1  2018      6   10     4       6   \n",
       "4  2018-06-10 04:06:00    2447      0  2018      6   10     4       6   \n",
       "\n",
       "   CardKind  CardLimit  CardHomeLocation  CustomerNo  TerminalKind  \\\n",
       "0         1          2                43       31003             0   \n",
       "1         1          1                17       60087             1   \n",
       "2         1          1                73       67621             1   \n",
       "3         1          1                65       49453             0   \n",
       "4         1          1                22       39015             1   \n",
       "\n",
       "   TerminalMerchant  TerminalLocation  SameLocation  InternationalTransaction  \\\n",
       "0                 0                43             1                         0   \n",
       "1                 1                17             1                         0   \n",
       "2                 5                99             0                         0   \n",
       "3                 0                65             1                         0   \n",
       "4                 5                12             0                         0   \n",
       "\n",
       "   OnlineTransaction  LocalTransaction  OverAverageMerchantAmount  \n",
       "0                  0                 1                          0  \n",
       "1                  0                 1                          0  \n",
       "2                  1                 0                          1  \n",
       "3                  0                 1                          1  \n",
       "4                  0                 1                          0  "
      ]
     },
     "execution_count": 14,
     "metadata": {},
     "output_type": "execute_result"
    }
   ],
   "source": [
    "import pandas as pd\n",
    "import numpy as np\n",
    "\n",
    "# Read transaction data from log file\n",
    "transaction_data = pd.read_csv(\"data/task3_data.csv\")\n",
    "transaction_data.head()"
   ]
  },
  {
   "cell_type": "markdown",
   "metadata": {},
   "source": [
    "### Feature Importances"
   ]
  },
  {
   "cell_type": "code",
   "execution_count": 15,
   "metadata": {
    "collapsed": false
   },
   "outputs": [
    {
     "data": {
      "image/png": "[encoded data removed]",
      "text/plain": [
       "<matplotlib.figure.Figure at 0x20cec8667f0>"
      ]
     },
     "metadata": {},
     "output_type": "display_data"
    },
    {
     "data": {
      "text/html": [
       "<div>\n",
       "<table border=\"1\" class=\"dataframe\">\n",
       "  <thead>\n",
       "    <tr style=\"text-align: right;\">\n",
       "      <th></th>\n",
       "      <th>Feature</th>\n",
       "      <th>Importance Score</th>\n",
       "    </tr>\n",
       "  </thead>\n",
       "  <tbody>\n",
       "    <tr>\n",
       "      <th>0</th>\n",
       "      <td>Amount</td>\n",
       "      <td>0.299317</td>\n",
       "    </tr>\n",
       "    <tr>\n",
       "      <th>9</th>\n",
       "      <td>CustomerNo</td>\n",
       "      <td>0.138833</td>\n",
       "    </tr>\n",
       "    <tr>\n",
       "      <th>12</th>\n",
       "      <td>TerminalLocation</td>\n",
       "      <td>0.121752</td>\n",
       "    </tr>\n",
       "    <tr>\n",
       "      <th>8</th>\n",
       "      <td>CardHomeLocation</td>\n",
       "      <td>0.121189</td>\n",
       "    </tr>\n",
       "  </tbody>\n",
       "</table>\n",
       "</div>"
      ],
      "text/plain": [
       "             Feature  Importance Score\n",
       "0             Amount          0.299317\n",
       "9         CustomerNo          0.138833\n",
       "12  TerminalLocation          0.121752\n",
       "8   CardHomeLocation          0.121189"
      ]
     },
     "execution_count": 15,
     "metadata": {},
     "output_type": "execute_result"
    }
   ],
   "source": [
    "from sklearn.ensemble import ExtraTreesClassifier\n",
    "from sklearn.feature_selection import SelectFromModel\n",
    "from sklearn.utils import shuffle\n",
    "\n",
    "import matplotlib.pyplot as plt\n",
    "\n",
    "transaction_data = shuffle(transaction_data)\n",
    "\n",
    "X = transaction_data.drop(['Class', 'DateTime'], axis=1)\n",
    "y = transaction_data['Class']\n",
    "\n",
    "feature_list = list(X)\n",
    "\n",
    "feature_model = ExtraTreesClassifier()\n",
    "feature_model = feature_model.fit(X, y)\n",
    "\n",
    "feat_imp = pd.Series(feature_model.feature_importances_, feature_list).sort_values(ascending=False)\n",
    "feat_imp.plot(kind='bar')\n",
    "plt.xlabel('Feature')\n",
    "plt.ylabel('Feature Importance')\n",
    "plt.show()\n",
    "\n",
    "feature_selection_data = pd.DataFrame(\n",
    "    {'Feature': feature_list,\n",
    "     'Importance Score': feature_model.feature_importances_ \n",
    "    })\n",
    "\n",
    "feature_selection_model = SelectFromModel(feature_model, prefit=True)\n",
    "X_transformed = feature_selection_model.transform(X)\n",
    "\n",
    "selected_features = feature_selection_data.sort_values(by='Importance Score', ascending=False)\n",
    "selected_features.head(X_transformed.shape[1])"
   ]
  },
  {
   "cell_type": "code",
   "execution_count": 16,
   "metadata": {
    "collapsed": false
   },
   "outputs": [
    {
     "name": "stdout",
     "output_type": "stream",
     "text": [
      "LR: 0.40 (0.01)\n",
      "LDA: 0.36 (0.02)\n"
     ]
    },
    {
     "name": "stderr",
     "output_type": "stream",
     "text": [
      "T:\\Continuum\\Anaconda3\\lib\\site-packages\\sklearn\\discriminant_analysis.py:388: UserWarning: Variables are collinear.\n",
      "  warnings.warn(\"Variables are collinear.\")\n",
      "T:\\Continuum\\Anaconda3\\lib\\site-packages\\sklearn\\discriminant_analysis.py:388: UserWarning: Variables are collinear.\n",
      "  warnings.warn(\"Variables are collinear.\")\n",
      "T:\\Continuum\\Anaconda3\\lib\\site-packages\\sklearn\\discriminant_analysis.py:388: UserWarning: Variables are collinear.\n",
      "  warnings.warn(\"Variables are collinear.\")\n",
      "T:\\Continuum\\Anaconda3\\lib\\site-packages\\sklearn\\discriminant_analysis.py:388: UserWarning: Variables are collinear.\n",
      "  warnings.warn(\"Variables are collinear.\")\n",
      "T:\\Continuum\\Anaconda3\\lib\\site-packages\\sklearn\\discriminant_analysis.py:388: UserWarning: Variables are collinear.\n",
      "  warnings.warn(\"Variables are collinear.\")\n"
     ]
    },
    {
     "name": "stdout",
     "output_type": "stream",
     "text": [
      "KNN: 0.48 (0.01)\n",
      "CART: 0.61 (0.01)\n",
      "RF: 0.61 (0.02)\n",
      "GB: 0.67 (0.01)\n",
      "AB: 0.57 (0.01)\n",
      "MLP: 0.65 (0.01)\n",
      "NB: 0.30 (0.02)\n",
      "SVM: 0.41 (0.02)\n"
     ]
    },
    {
     "data": {
      "image/png": "[encoded data removed]",
      "text/plain": [
       "<matplotlib.figure.Figure at 0x20cec733f28>"
      ]
     },
     "metadata": {},
     "output_type": "display_data"
    }
   ],
   "source": [
    "from sklearn.preprocessing import StandardScaler\n",
    "from sklearn.model_selection import KFold\n",
    "from sklearn.model_selection import cross_validate\n",
    "from sklearn.model_selection import cross_val_score\n",
    "from sklearn.linear_model import LogisticRegression\n",
    "from sklearn.discriminant_analysis import LinearDiscriminantAnalysis\n",
    "from sklearn.neighbors import KNeighborsClassifier\n",
    "from sklearn.tree import DecisionTreeClassifier\n",
    "from sklearn.naive_bayes import GaussianNB\n",
    "from sklearn.svm import SVC\n",
    "from sklearn.ensemble import RandomForestClassifier\n",
    "from sklearn.ensemble import GradientBoostingClassifier\n",
    "from sklearn.ensemble import AdaBoostClassifier\n",
    "from sklearn.neural_network import MLPClassifier\n",
    "\n",
    "X = transaction_data.drop(['Class', 'DateTime'], axis=1)\n",
    "y = transaction_data['Class']\n",
    "\n",
    "scaler = StandardScaler()\n",
    "X_transformed = scaler.fit_transform(X)\n",
    "#X_transformed = feature_selection_model.transform(X_transformed)\n",
    "\n",
    "models = []\n",
    "models.append(('LR', LogisticRegression()))\n",
    "models.append(('LDA', LinearDiscriminantAnalysis()))\n",
    "models.append(('KNN', KNeighborsClassifier()))\n",
    "models.append(('CART', DecisionTreeClassifier()))\n",
    "models.append(('RF', RandomForestClassifier()))\n",
    "models.append(('GB', GradientBoostingClassifier()))\n",
    "models.append(('AB', AdaBoostClassifier()))\n",
    "models.append(('MLP', MLPClassifier()))\n",
    "models.append(('NB', GaussianNB()))\n",
    "models.append(('SVM', SVC()))\n",
    "\n",
    "results = []\n",
    "names = [] \n",
    "for name, model in models:\n",
    "    kfold = KFold(n_splits=5)\n",
    "    cv_results = cross_val_score(model, X_transformed, y, cv=kfold, scoring='f1')\n",
    "    results.append(cv_results)\n",
    "    names.append(name)\n",
    "    print(\"%s: %.2f (%.2f)\" % (name, cv_results.mean(), cv_results.std()))\n",
    "    \n",
    "fig = plt.figure()\n",
    "fig.suptitle('Comparison of Algorithms')\n",
    "ax = fig.add_subplot(111)\n",
    "plt.boxplot(results)\n",
    "ax.set_xticklabels(names)\n",
    "plt.show()"
   ]
  },
  {
   "cell_type": "markdown",
   "metadata": {},
   "source": [
    "### Train/Test(Validation) Split"
   ]
  },
  {
   "cell_type": "code",
   "execution_count": 21,
   "metadata": {
    "collapsed": false
   },
   "outputs": [
    {
     "name": "stdout",
     "output_type": "stream",
     "text": [
      "(14393, 4) (14393,)\n",
      "(3599, 4) (3599,)\n"
     ]
    }
   ],
   "source": [
    "from sklearn.model_selection import train_test_split\n",
    "from sklearn.preprocessing import StandardScaler\n",
    "\n",
    "X = transaction_data.drop(['Class', 'DateTime'], axis=1)\n",
    "y = transaction_data['Class']\n",
    "\n",
    "scaler = StandardScaler()\n",
    "X_transformed = scaler.fit_transform(X)\n",
    "#X_transformed = feature_selection_model.transform(X_transformed)\n",
    "X_train, X_test, y_train, y_test = train_test_split(X_transformed, y, test_size=0.2, random_state=0)\n",
    "\n",
    "print(X_train.shape, y_train.shape)\n",
    "print(X_test.shape, y_test.shape)"
   ]
  },
  {
   "cell_type": "markdown",
   "metadata": {},
   "source": [
    "### Build Prediction Model Using Chosen Classification Algorithm"
   ]
  },
  {
   "cell_type": "code",
   "execution_count": 22,
   "metadata": {
    "collapsed": false
   },
   "outputs": [
    {
     "data": {
      "text/plain": [
       "GradientBoostingClassifier(criterion='friedman_mse', init=None,\n",
       "              learning_rate=0.1, loss='deviance', max_depth=3,\n",
       "              max_features=None, max_leaf_nodes=None,\n",
       "              min_impurity_decrease=0.0, min_impurity_split=None,\n",
       "              min_samples_leaf=1, min_samples_split=2,\n",
       "              min_weight_fraction_leaf=0.0, n_estimators=100,\n",
       "              presort='auto', random_state=None, subsample=1.0, verbose=0,\n",
       "              warm_start=False)"
      ]
     },
     "execution_count": 22,
     "metadata": {},
     "output_type": "execute_result"
    }
   ],
   "source": [
    "model = GradientBoostingClassifier()\n",
    "model.fit(X_train, y_train)"
   ]
  },
  {
   "cell_type": "markdown",
   "metadata": {},
   "source": [
    "### Test Prediction Model"
   ]
  },
  {
   "cell_type": "code",
   "execution_count": 23,
   "metadata": {
    "collapsed": false,
    "scrolled": true
   },
   "outputs": [
    {
     "name": "stdout",
     "output_type": "stream",
     "text": [
      "*****Test*****\n",
      "Accuracy = 0.92\n",
      "             precision    recall  f1-score   support\n",
      "\n",
      "          0       0.92      1.00      0.96      3236\n",
      "          1       0.89      0.24      0.38       363\n",
      "\n",
      "avg / total       0.92      0.92      0.90      3599\n",
      "\n"
     ]
    }
   ],
   "source": [
    "from sklearn.metrics import accuracy_score\n",
    "from sklearn.metrics import classification_report\n",
    "\n",
    "y_test_predicted = model.predict(X_test)\n",
    "\n",
    "accuracy = accuracy_score(y_test, y_test_predicted)\n",
    "\n",
    "print('*****Test*****')\n",
    "print(\"Accuracy = %.2f\" % accuracy)\n",
    "print(classification_report(y_test, y_test_predicted))"
   ]
  },
  {
   "cell_type": "code",
   "execution_count": 24,
   "metadata": {
    "collapsed": false,
    "scrolled": true
   },
   "outputs": [
    {
     "name": "stdout",
     "output_type": "stream",
     "text": [
      "Confusion matrix:\n",
      "[[3225   11]\n",
      " [ 276   87]]\n",
      "True Positives (TP) = 87\n",
      "True Negatives (TN) = 3225\n",
      "False Positives (FP) = 11 (Type1 error)\n",
      "False Negatives (FN) = 276 (Type2 error)\n"
     ]
    }
   ],
   "source": [
    "from sklearn.metrics import confusion_matrix\n",
    "\n",
    "results = confusion_matrix(y_test, y_test_predicted)\n",
    "tn, fp, fn, tp = results.ravel()\n",
    "print('Confusion matrix:')\n",
    "print(results)\n",
    "print(\"True Positives (TP) = %d\" % tp)\n",
    "print(\"True Negatives (TN) = %d\" % tn)\n",
    "print(\"False Positives (FP) = %d (Type1 error)\" % fp)\n",
    "print(\"False Negatives (FN) = %d (Type2 error)\" % fn)"
   ]
  },
  {
   "cell_type": "markdown",
   "metadata": {},
   "source": [
    "### Balanced dataset"
   ]
  },
  {
   "cell_type": "code",
   "execution_count": 25,
   "metadata": {
    "collapsed": false
   },
   "outputs": [
    {
     "name": "stdout",
     "output_type": "stream",
     "text": [
      "Number of fraudulents = 1733\n",
      "Number of not fraudulents = 1733\n",
      "Fraudulent ratio = 0.5000\n",
      "Fraudulent percentege = 50.00%\n"
     ]
    },
    {
     "data": {
      "image/png": "[encoded data removed]",
      "text/plain": [
       "<matplotlib.figure.Figure at 0x20cec7851d0>"
      ]
     },
     "metadata": {},
     "output_type": "display_data"
    }
   ],
   "source": [
    "transaction_data_fraud = transaction_data[transaction_data.Class == 1]\n",
    "number_of_fraudulents = transaction_data_fraud.shape[0]\n",
    "transaction_data_normal = transaction_data[transaction_data.Class == 0].sample(n = number_of_fraudulents)\n",
    "number_of_not_fraudulents = transaction_data_normal.shape[0]\n",
    " \n",
    "frames = [transaction_data_fraud, transaction_data_normal]\n",
    "balanced_transaction_data = pd.concat(frames)\n",
    "number_of_observations = balanced_transaction_data.shape[0]\n",
    "fraudulent_ratio = number_of_fraudulents / float(number_of_observations)\n",
    " \n",
    "print('Number of fraudulents = {0}'.format(number_of_fraudulents))\n",
    "print('Number of not fraudulents = {0}'.format(number_of_not_fraudulents))\n",
    "print('Fraudulent ratio = {0:.4f}'.format(fraudulent_ratio))\n",
    "print('Fraudulent percentege = {0:.2f}%'.format(fraudulent_ratio * 100))\n",
    " \n",
    "number_of_is_attributed = balanced_transaction_data['Class'].value_counts()\n",
    "number_of_is_attributed.plot(kind='pie')\n",
    "plt.show()"
   ]
  },
  {
   "cell_type": "code",
   "execution_count": 26,
   "metadata": {
    "collapsed": false
   },
   "outputs": [
    {
     "data": {
      "image/png": "[encoded data removed]",
      "text/plain": [
       "<matplotlib.figure.Figure at 0x20cf9277eb8>"
      ]
     },
     "metadata": {},
     "output_type": "display_data"
    },
    {
     "data": {
      "text/html": [
       "<div>\n",
       "<table border=\"1\" class=\"dataframe\">\n",
       "  <thead>\n",
       "    <tr style=\"text-align: right;\">\n",
       "      <th></th>\n",
       "      <th>Feature</th>\n",
       "      <th>Importance Score</th>\n",
       "    </tr>\n",
       "  </thead>\n",
       "  <tbody>\n",
       "    <tr>\n",
       "      <th>0</th>\n",
       "      <td>Amount</td>\n",
       "      <td>0.239962</td>\n",
       "    </tr>\n",
       "    <tr>\n",
       "      <th>17</th>\n",
       "      <td>OverAverageMerchantAmount</td>\n",
       "      <td>0.167342</td>\n",
       "    </tr>\n",
       "    <tr>\n",
       "      <th>9</th>\n",
       "      <td>CustomerNo</td>\n",
       "      <td>0.095290</td>\n",
       "    </tr>\n",
       "    <tr>\n",
       "      <th>8</th>\n",
       "      <td>CardHomeLocation</td>\n",
       "      <td>0.087041</td>\n",
       "    </tr>\n",
       "    <tr>\n",
       "      <th>13</th>\n",
       "      <td>SameLocation</td>\n",
       "      <td>0.072109</td>\n",
       "    </tr>\n",
       "    <tr>\n",
       "      <th>12</th>\n",
       "      <td>TerminalLocation</td>\n",
       "      <td>0.069259</td>\n",
       "    </tr>\n",
       "    <tr>\n",
       "      <th>7</th>\n",
       "      <td>CardLimit</td>\n",
       "      <td>0.066059</td>\n",
       "    </tr>\n",
       "  </tbody>\n",
       "</table>\n",
       "</div>"
      ],
      "text/plain": [
       "                      Feature  Importance Score\n",
       "0                      Amount          0.239962\n",
       "17  OverAverageMerchantAmount          0.167342\n",
       "9                  CustomerNo          0.095290\n",
       "8            CardHomeLocation          0.087041\n",
       "13               SameLocation          0.072109\n",
       "12           TerminalLocation          0.069259\n",
       "7                   CardLimit          0.066059"
      ]
     },
     "execution_count": 26,
     "metadata": {},
     "output_type": "execute_result"
    }
   ],
   "source": [
    "X = balanced_transaction_data.drop(['Class', 'DateTime'], axis=1)\n",
    "y = balanced_transaction_data['Class']\n",
    "\n",
    "feature_list = list(X)\n",
    "\n",
    "feature_model = ExtraTreesClassifier()\n",
    "feature_model = feature_model.fit(X, y)\n",
    "\n",
    "feat_imp = pd.Series(feature_model.feature_importances_, feature_list).sort_values(ascending=False)\n",
    "feat_imp.plot(kind='bar')\n",
    "plt.xlabel('Feature')\n",
    "plt.ylabel('Feature Importance')\n",
    "plt.show()\n",
    "\n",
    "feature_selection_data = pd.DataFrame(\n",
    "    {'Feature': feature_list,\n",
    "     'Importance Score': feature_model.feature_importances_ \n",
    "    })\n",
    "\n",
    "feature_selection_model = SelectFromModel(feature_model, prefit=True)\n",
    "X_transformed = feature_selection_model.transform(X)\n",
    "\n",
    "selected_features = feature_selection_data.sort_values(by='Importance Score', ascending=False)\n",
    "selected_features.head(X_transformed.shape[1])"
   ]
  },
  {
   "cell_type": "code",
   "execution_count": 27,
   "metadata": {
    "collapsed": false
   },
   "outputs": [
    {
     "name": "stdout",
     "output_type": "stream",
     "text": [
      "LR: 0.78 (0.05)\n",
      "LDA: 0.73 (0.06)\n"
     ]
    },
    {
     "name": "stderr",
     "output_type": "stream",
     "text": [
      "T:\\Continuum\\Anaconda3\\lib\\site-packages\\sklearn\\discriminant_analysis.py:388: UserWarning: Variables are collinear.\n",
      "  warnings.warn(\"Variables are collinear.\")\n",
      "T:\\Continuum\\Anaconda3\\lib\\site-packages\\sklearn\\discriminant_analysis.py:388: UserWarning: Variables are collinear.\n",
      "  warnings.warn(\"Variables are collinear.\")\n",
      "T:\\Continuum\\Anaconda3\\lib\\site-packages\\sklearn\\discriminant_analysis.py:388: UserWarning: Variables are collinear.\n",
      "  warnings.warn(\"Variables are collinear.\")\n",
      "T:\\Continuum\\Anaconda3\\lib\\site-packages\\sklearn\\discriminant_analysis.py:388: UserWarning: Variables are collinear.\n",
      "  warnings.warn(\"Variables are collinear.\")\n",
      "T:\\Continuum\\Anaconda3\\lib\\site-packages\\sklearn\\discriminant_analysis.py:388: UserWarning: Variables are collinear.\n",
      "  warnings.warn(\"Variables are collinear.\")\n"
     ]
    },
    {
     "name": "stdout",
     "output_type": "stream",
     "text": [
      "KNN: 0.71 (0.05)\n",
      "CART: 0.85 (0.02)\n",
      "RF: 0.85 (0.03)\n",
      "GB: 0.91 (0.02)\n",
      "AB: 0.89 (0.04)\n",
      "MLP: 0.87 (0.04)\n",
      "NB: 0.63 (0.06)\n",
      "SVM: 0.78 (0.06)\n"
     ]
    },
    {
     "data": {
      "image/png": "[encoded data removed]",
      "text/plain": [
       "<matplotlib.figure.Figure at 0x20cec785a90>"
      ]
     },
     "metadata": {},
     "output_type": "display_data"
    }
   ],
   "source": [
    "X = balanced_transaction_data.drop(['Class', 'DateTime'], axis=1)\n",
    "y = balanced_transaction_data['Class']\n",
    "\n",
    "scaler = StandardScaler()\n",
    "X_transformed = scaler.fit_transform(X)\n",
    "#X_transformed = feature_selection_model.transform(X_transformed)\n",
    "\n",
    "models = []\n",
    "models.append(('LR', LogisticRegression()))\n",
    "models.append(('LDA', LinearDiscriminantAnalysis()))\n",
    "models.append(('KNN', KNeighborsClassifier()))\n",
    "models.append(('CART', DecisionTreeClassifier()))\n",
    "models.append(('RF', RandomForestClassifier()))\n",
    "models.append(('GB', GradientBoostingClassifier()))\n",
    "models.append(('AB', AdaBoostClassifier()))\n",
    "models.append(('MLP', MLPClassifier()))\n",
    "models.append(('NB', GaussianNB()))\n",
    "models.append(('SVM', SVC()))\n",
    "\n",
    "results = []\n",
    "names = [] \n",
    "for name, model in models:\n",
    "    kfold = KFold(n_splits=5)\n",
    "    cv_results = cross_val_score(model, X_transformed, y, cv=kfold, scoring='accuracy')\n",
    "    results.append(cv_results)\n",
    "    names.append(name)\n",
    "    print(\"%s: %.2f (%.2f)\" % (name, cv_results.mean(), cv_results.std()))\n",
    "    \n",
    "fig = plt.figure()\n",
    "fig.suptitle('Comparison of Algorithms')\n",
    "ax = fig.add_subplot(111)\n",
    "plt.boxplot(results)\n",
    "ax.set_xticklabels(names)\n",
    "plt.show()"
   ]
  },
  {
   "cell_type": "code",
   "execution_count": 28,
   "metadata": {
    "collapsed": false
   },
   "outputs": [
    {
     "name": "stdout",
     "output_type": "stream",
     "text": [
      "*****Test*****\n",
      "Accuracy = 0.92\n",
      "             precision    recall  f1-score   support\n",
      "\n",
      "          0       0.92      0.91      0.92       336\n",
      "          1       0.92      0.93      0.92       358\n",
      "\n",
      "avg / total       0.92      0.92      0.92       694\n",
      "\n"
     ]
    }
   ],
   "source": [
    "X = balanced_transaction_data.drop(['Class', 'DateTime'], axis=1)\n",
    "y = balanced_transaction_data['Class']\n",
    "\n",
    "scaler = StandardScaler()\n",
    "X_transformed = scaler.fit_transform(X)\n",
    "#X_transformed = feature_selection_model.transform(X_transformed)\n",
    "X_train, X_test, y_train, y_test = train_test_split(X_transformed, y, test_size=0.2, random_state=0)\n",
    "\n",
    "model = GradientBoostingClassifier()\n",
    "model.fit(X_train, y_train)\n",
    "\n",
    "y_test_predicted = model.predict(X_test)\n",
    "\n",
    "accuracy = accuracy_score(y_test, y_test_predicted)\n",
    "\n",
    "print('*****Test*****')\n",
    "print(\"Accuracy = %.2f\" % accuracy)\n",
    "print(classification_report(y_test, y_test_predicted))"
   ]
  },
  {
   "cell_type": "code",
   "execution_count": 30,
   "metadata": {
    "collapsed": false
   },
   "outputs": [
    {
     "name": "stdout",
     "output_type": "stream",
     "text": [
      "Confusion matrix:\n",
      "[[307  29]\n",
      " [ 26 332]]\n",
      "True Positives (TP) = 332\n",
      "True Negatives (TN) = 307\n",
      "False Positives (FP) = 29 (Type1 error)\n",
      "False Negatives (FN) = 26 (Type2 error)\n"
     ]
    }
   ],
   "source": [
    "results = confusion_matrix(y_test, y_test_predicted)\n",
    "tn, fp, fn, tp = results.ravel()\n",
    "print('Confusion matrix:')\n",
    "print(results)\n",
    "print(\"True Positives (TP) = %d\" % tp)\n",
    "print(\"True Negatives (TN) = %d\" % tn)\n",
    "print(\"False Positives (FP) = %d (Type1 error)\" % fp)\n",
    "print(\"False Negatives (FN) = %d (Type2 error)\" % fn)"
   ]
  }
 ],
 "metadata": {
  "kernelspec": {
   "display_name": "Python [conda root]",
   "language": "python",
   "name": "conda-root-py"
  },
  "language_info": {
   "codemirror_mode": {
    "name": "ipython",
    "version": 3
   },
   "file_extension": ".py",
   "mimetype": "text/x-python",
   "name": "python",
   "nbconvert_exporter": "python",
   "pygments_lexer": "ipython3",
   "version": "3.5.2"
  }
 },
 "nbformat": 4,
 "nbformat_minor": 1
}
