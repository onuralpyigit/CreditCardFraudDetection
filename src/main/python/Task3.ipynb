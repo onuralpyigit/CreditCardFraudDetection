{
 "cells": [
  {
   "cell_type": "markdown",
   "metadata": {},
   "source": [
    "## Credit Card Fraud Detection - Task3"
   ]
  },
  {
   "cell_type": "markdown",
   "metadata": {},
   "source": [
    "### Load transaction data"
   ]
  },
  {
   "cell_type": "code",
   "execution_count": 6,
   "metadata": {
    "collapsed": false,
    "scrolled": true
   },
   "outputs": [
    {
     "data": {
      "text/html": [
       "<div>\n",
       "<table border=\"1\" class=\"dataframe\">\n",
       "  <thead>\n",
       "    <tr style=\"text-align: right;\">\n",
       "      <th></th>\n",
       "      <th>DateTime</th>\n",
       "      <th>CardID</th>\n",
       "      <th>TerminalID</th>\n",
       "      <th>Amount</th>\n",
       "      <th>Class</th>\n",
       "      <th>year</th>\n",
       "      <th>month</th>\n",
       "      <th>day</th>\n",
       "      <th>hour</th>\n",
       "      <th>minute</th>\n",
       "      <th>CardKind</th>\n",
       "      <th>CardLimit</th>\n",
       "      <th>CardHomeLocation</th>\n",
       "      <th>TerminalKind</th>\n",
       "      <th>TerminalMerchant</th>\n",
       "      <th>TerminalLocation</th>\n",
       "    </tr>\n",
       "  </thead>\n",
       "  <tbody>\n",
       "    <tr>\n",
       "      <th>0</th>\n",
       "      <td>2018-06-09 15:26:00</td>\n",
       "      <td>546708</td>\n",
       "      <td>41</td>\n",
       "      <td>365</td>\n",
       "      <td>0</td>\n",
       "      <td>2018</td>\n",
       "      <td>6</td>\n",
       "      <td>9</td>\n",
       "      <td>15</td>\n",
       "      <td>26</td>\n",
       "      <td>0</td>\n",
       "      <td>0</td>\n",
       "      <td>54</td>\n",
       "      <td>0</td>\n",
       "      <td>0</td>\n",
       "      <td>4</td>\n",
       "    </tr>\n",
       "    <tr>\n",
       "      <th>1</th>\n",
       "      <td>2018-06-09 15:26:00</td>\n",
       "      <td>189780</td>\n",
       "      <td>187</td>\n",
       "      <td>635</td>\n",
       "      <td>1</td>\n",
       "      <td>2018</td>\n",
       "      <td>6</td>\n",
       "      <td>9</td>\n",
       "      <td>15</td>\n",
       "      <td>26</td>\n",
       "      <td>0</td>\n",
       "      <td>0</td>\n",
       "      <td>18</td>\n",
       "      <td>0</td>\n",
       "      <td>0</td>\n",
       "      <td>18</td>\n",
       "    </tr>\n",
       "    <tr>\n",
       "      <th>2</th>\n",
       "      <td>2018-06-09 15:26:00</td>\n",
       "      <td>11605758</td>\n",
       "      <td>15044</td>\n",
       "      <td>3865</td>\n",
       "      <td>0</td>\n",
       "      <td>2018</td>\n",
       "      <td>6</td>\n",
       "      <td>9</td>\n",
       "      <td>15</td>\n",
       "      <td>26</td>\n",
       "      <td>1</td>\n",
       "      <td>1</td>\n",
       "      <td>60</td>\n",
       "      <td>1</td>\n",
       "      <td>5</td>\n",
       "      <td>4</td>\n",
       "    </tr>\n",
       "    <tr>\n",
       "      <th>3</th>\n",
       "      <td>2018-06-09 15:26:00</td>\n",
       "      <td>550284</td>\n",
       "      <td>15551</td>\n",
       "      <td>119</td>\n",
       "      <td>0</td>\n",
       "      <td>2018</td>\n",
       "      <td>6</td>\n",
       "      <td>9</td>\n",
       "      <td>15</td>\n",
       "      <td>26</td>\n",
       "      <td>0</td>\n",
       "      <td>0</td>\n",
       "      <td>55</td>\n",
       "      <td>1</td>\n",
       "      <td>5</td>\n",
       "      <td>55</td>\n",
       "    </tr>\n",
       "    <tr>\n",
       "      <th>4</th>\n",
       "      <td>2018-06-09 15:26:00</td>\n",
       "      <td>502578</td>\n",
       "      <td>344</td>\n",
       "      <td>110</td>\n",
       "      <td>0</td>\n",
       "      <td>2018</td>\n",
       "      <td>6</td>\n",
       "      <td>9</td>\n",
       "      <td>15</td>\n",
       "      <td>26</td>\n",
       "      <td>0</td>\n",
       "      <td>0</td>\n",
       "      <td>50</td>\n",
       "      <td>0</td>\n",
       "      <td>0</td>\n",
       "      <td>34</td>\n",
       "    </tr>\n",
       "  </tbody>\n",
       "</table>\n",
       "</div>"
      ],
      "text/plain": [
       "              DateTime    CardID  TerminalID  Amount  Class  year  month  day  \\\n",
       "0  2018-06-09 15:26:00    546708          41     365      0  2018      6    9   \n",
       "1  2018-06-09 15:26:00    189780         187     635      1  2018      6    9   \n",
       "2  2018-06-09 15:26:00  11605758       15044    3865      0  2018      6    9   \n",
       "3  2018-06-09 15:26:00    550284       15551     119      0  2018      6    9   \n",
       "4  2018-06-09 15:26:00    502578         344     110      0  2018      6    9   \n",
       "\n",
       "   hour  minute  CardKind  CardLimit  CardHomeLocation  TerminalKind  \\\n",
       "0    15      26         0          0                54             0   \n",
       "1    15      26         0          0                18             0   \n",
       "2    15      26         1          1                60             1   \n",
       "3    15      26         0          0                55             1   \n",
       "4    15      26         0          0                50             0   \n",
       "\n",
       "   TerminalMerchant  TerminalLocation  \n",
       "0                 0                 4  \n",
       "1                 0                18  \n",
       "2                 5                 4  \n",
       "3                 5                55  \n",
       "4                 0                34  "
      ]
     },
     "execution_count": 6,
     "metadata": {},
     "output_type": "execute_result"
    }
   ],
   "source": [
    "import pandas as pd\n",
    "import numpy as np\n",
    "\n",
    "# Read transaction data from log file\n",
    "transaction_data = pd.read_csv(\"data/task3_data.csv\")\n",
    "transaction_data.head()"
   ]
  },
  {
   "cell_type": "markdown",
   "metadata": {},
   "source": [
    "### Train/Test(Validation) Split"
   ]
  },
  {
   "cell_type": "code",
   "execution_count": 7,
   "metadata": {
    "collapsed": false
   },
   "outputs": [
    {
     "name": "stdout",
     "output_type": "stream",
     "text": [
      "(211, 12) (211,)\n",
      "(53, 12) (53,)\n"
     ]
    }
   ],
   "source": [
    "from sklearn.model_selection import train_test_split\n",
    "from sklearn.preprocessing import StandardScaler\n",
    "\n",
    "X = transaction_data.drop(['Class', 'DateTime', 'CardID', 'TerminalID'], axis=1)\n",
    "y = transaction_data['Class']\n",
    "\n",
    "scaler = StandardScaler()\n",
    "X_train, X_test, y_train, y_test = train_test_split(X, y, test_size=0.2, random_state=0)\n",
    "\n",
    "print(X_train.shape, y_train.shape)\n",
    "print(X_test.shape, y_test.shape)"
   ]
  },
  {
   "cell_type": "markdown",
   "metadata": {},
   "source": [
    "### Build Prediction Model Using Chosen Classification Algorithm"
   ]
  },
  {
   "cell_type": "code",
   "execution_count": 8,
   "metadata": {
    "collapsed": false
   },
   "outputs": [
    {
     "data": {
      "text/plain": [
       "DecisionTreeClassifier(class_weight=None, criterion='gini', max_depth=None,\n",
       "            max_features=None, max_leaf_nodes=None,\n",
       "            min_impurity_decrease=0.0, min_impurity_split=None,\n",
       "            min_samples_leaf=1, min_samples_split=2,\n",
       "            min_weight_fraction_leaf=0.0, presort=False, random_state=None,\n",
       "            splitter='best')"
      ]
     },
     "execution_count": 8,
     "metadata": {},
     "output_type": "execute_result"
    }
   ],
   "source": [
    "from sklearn.tree import DecisionTreeClassifier\n",
    "\n",
    "model = DecisionTreeClassifier()\n",
    "model.fit(X_train, y_train)"
   ]
  },
  {
   "cell_type": "markdown",
   "metadata": {},
   "source": [
    "### Test Prediction Model"
   ]
  },
  {
   "cell_type": "code",
   "execution_count": 9,
   "metadata": {
    "collapsed": false,
    "scrolled": true
   },
   "outputs": [
    {
     "name": "stdout",
     "output_type": "stream",
     "text": [
      "*****Test*****\n",
      "Accuracy = 0.79\n",
      "             precision    recall  f1-score   support\n",
      "\n",
      "          0       0.86      0.91      0.88        46\n",
      "          1       0.00      0.00      0.00         7\n",
      "\n",
      "avg / total       0.74      0.79      0.77        53\n",
      "\n"
     ]
    }
   ],
   "source": [
    "from sklearn.metrics import accuracy_score\n",
    "from sklearn.metrics import classification_report\n",
    "\n",
    "y_test_predicted = model.predict(X_test)\n",
    "\n",
    "accuracy = accuracy_score(y_test, y_test_predicted)\n",
    "\n",
    "print('*****Test*****')\n",
    "print(\"Accuracy = %.2f\" % accuracy)\n",
    "print(classification_report(y_test, y_test_predicted))"
   ]
  },
  {
   "cell_type": "code",
   "execution_count": 10,
   "metadata": {
    "collapsed": false
   },
   "outputs": [
    {
     "name": "stdout",
     "output_type": "stream",
     "text": [
      "Confusion matrix:\n",
      "[[42  4]\n",
      " [ 7  0]]\n",
      "True Positives (TP) = 0\n",
      "True Negatives (TN) = 42\n",
      "False Positives (FP) = 4 (Type1 error)\n",
      "False Negatives (FN) = 7 (Type2 error)\n"
     ]
    }
   ],
   "source": [
    "from sklearn.metrics import confusion_matrix\n",
    "\n",
    "results = confusion_matrix(y_test, y_test_predicted)\n",
    "tn, fp, fn, tp = results.ravel()\n",
    "print('Confusion matrix:')\n",
    "print(results)\n",
    "print(\"True Positives (TP) = %d\" % tp)\n",
    "print(\"True Negatives (TN) = %d\" % tn)\n",
    "print(\"False Positives (FP) = %d (Type1 error)\" % fp)\n",
    "print(\"False Negatives (FN) = %d (Type2 error)\" % fn)"
   ]
  }
 ],
 "metadata": {
  "kernelspec": {
   "display_name": "Python [conda root]",
   "language": "python",
   "name": "conda-root-py"
  },
  "language_info": {
   "codemirror_mode": {
    "name": "ipython",
    "version": 3
   },
   "file_extension": ".py",
   "mimetype": "text/x-python",
   "name": "python",
   "nbconvert_exporter": "python",
   "pygments_lexer": "ipython3",
   "version": "3.5.2"
  }
 },
 "nbformat": 4,
 "nbformat_minor": 1
}
