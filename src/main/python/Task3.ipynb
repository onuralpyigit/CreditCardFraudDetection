{
 "cells": [
  {
   "cell_type": "markdown",
   "metadata": {},
   "source": [
    "## Credit Card Fraud Detection - Task3"
   ]
  },
  {
   "cell_type": "markdown",
   "metadata": {},
   "source": [
    "### Load transaction data"
   ]
  },
  {
   "cell_type": "code",
   "execution_count": 1,
   "metadata": {
    "collapsed": false,
    "scrolled": true
   },
   "outputs": [
    {
     "data": {
      "text/html": [
       "<div>\n",
       "<table border=\"1\" class=\"dataframe\">\n",
       "  <thead>\n",
       "    <tr style=\"text-align: right;\">\n",
       "      <th></th>\n",
       "      <th>DateTime</th>\n",
       "      <th>Amount</th>\n",
       "      <th>Class</th>\n",
       "      <th>year</th>\n",
       "      <th>month</th>\n",
       "      <th>day</th>\n",
       "      <th>hour</th>\n",
       "      <th>minute</th>\n",
       "      <th>CardKind</th>\n",
       "      <th>CardLimit</th>\n",
       "      <th>...</th>\n",
       "      <th>SameLocation</th>\n",
       "      <th>InternationalTransaction</th>\n",
       "      <th>OnlineTransaction</th>\n",
       "      <th>LocalTransaction</th>\n",
       "      <th>OverAverageAmount</th>\n",
       "      <th>OverAverageCardKindAmount</th>\n",
       "      <th>OverAverageTerminalKindAmount</th>\n",
       "      <th>OverAverageMerchantAmount</th>\n",
       "      <th>OverAverageLocationAmount</th>\n",
       "      <th>WithdrawCashUseCreditCard</th>\n",
       "    </tr>\n",
       "  </thead>\n",
       "  <tbody>\n",
       "    <tr>\n",
       "      <th>0</th>\n",
       "      <td>2018-06-10 12:25:00</td>\n",
       "      <td>5986</td>\n",
       "      <td>0</td>\n",
       "      <td>2018</td>\n",
       "      <td>6</td>\n",
       "      <td>10</td>\n",
       "      <td>12</td>\n",
       "      <td>25</td>\n",
       "      <td>1</td>\n",
       "      <td>4</td>\n",
       "      <td>...</td>\n",
       "      <td>1</td>\n",
       "      <td>0</td>\n",
       "      <td>0</td>\n",
       "      <td>1</td>\n",
       "      <td>1</td>\n",
       "      <td>1</td>\n",
       "      <td>1</td>\n",
       "      <td>1</td>\n",
       "      <td>1</td>\n",
       "      <td>0</td>\n",
       "    </tr>\n",
       "    <tr>\n",
       "      <th>1</th>\n",
       "      <td>2018-06-10 12:25:00</td>\n",
       "      <td>2422</td>\n",
       "      <td>0</td>\n",
       "      <td>2018</td>\n",
       "      <td>6</td>\n",
       "      <td>10</td>\n",
       "      <td>12</td>\n",
       "      <td>25</td>\n",
       "      <td>1</td>\n",
       "      <td>1</td>\n",
       "      <td>...</td>\n",
       "      <td>0</td>\n",
       "      <td>0</td>\n",
       "      <td>1</td>\n",
       "      <td>0</td>\n",
       "      <td>0</td>\n",
       "      <td>0</td>\n",
       "      <td>0</td>\n",
       "      <td>0</td>\n",
       "      <td>0</td>\n",
       "      <td>0</td>\n",
       "    </tr>\n",
       "    <tr>\n",
       "      <th>2</th>\n",
       "      <td>2018-06-10 12:25:00</td>\n",
       "      <td>9550</td>\n",
       "      <td>1</td>\n",
       "      <td>2018</td>\n",
       "      <td>6</td>\n",
       "      <td>10</td>\n",
       "      <td>12</td>\n",
       "      <td>25</td>\n",
       "      <td>1</td>\n",
       "      <td>2</td>\n",
       "      <td>...</td>\n",
       "      <td>1</td>\n",
       "      <td>0</td>\n",
       "      <td>0</td>\n",
       "      <td>1</td>\n",
       "      <td>1</td>\n",
       "      <td>1</td>\n",
       "      <td>1</td>\n",
       "      <td>1</td>\n",
       "      <td>1</td>\n",
       "      <td>0</td>\n",
       "    </tr>\n",
       "    <tr>\n",
       "      <th>3</th>\n",
       "      <td>2018-06-10 12:25:00</td>\n",
       "      <td>1413</td>\n",
       "      <td>0</td>\n",
       "      <td>2018</td>\n",
       "      <td>6</td>\n",
       "      <td>10</td>\n",
       "      <td>12</td>\n",
       "      <td>25</td>\n",
       "      <td>1</td>\n",
       "      <td>1</td>\n",
       "      <td>...</td>\n",
       "      <td>1</td>\n",
       "      <td>0</td>\n",
       "      <td>0</td>\n",
       "      <td>1</td>\n",
       "      <td>0</td>\n",
       "      <td>0</td>\n",
       "      <td>0</td>\n",
       "      <td>0</td>\n",
       "      <td>0</td>\n",
       "      <td>0</td>\n",
       "    </tr>\n",
       "    <tr>\n",
       "      <th>4</th>\n",
       "      <td>2018-06-10 12:25:00</td>\n",
       "      <td>5801</td>\n",
       "      <td>0</td>\n",
       "      <td>2018</td>\n",
       "      <td>6</td>\n",
       "      <td>10</td>\n",
       "      <td>12</td>\n",
       "      <td>25</td>\n",
       "      <td>1</td>\n",
       "      <td>2</td>\n",
       "      <td>...</td>\n",
       "      <td>0</td>\n",
       "      <td>0</td>\n",
       "      <td>0</td>\n",
       "      <td>1</td>\n",
       "      <td>1</td>\n",
       "      <td>1</td>\n",
       "      <td>1</td>\n",
       "      <td>1</td>\n",
       "      <td>1</td>\n",
       "      <td>0</td>\n",
       "    </tr>\n",
       "  </tbody>\n",
       "</table>\n",
       "<p>5 rows × 26 columns</p>\n",
       "</div>"
      ],
      "text/plain": [
       "              DateTime  Amount  Class  year  month  day  hour  minute  \\\n",
       "0  2018-06-10 12:25:00    5986      0  2018      6   10    12      25   \n",
       "1  2018-06-10 12:25:00    2422      0  2018      6   10    12      25   \n",
       "2  2018-06-10 12:25:00    9550      1  2018      6   10    12      25   \n",
       "3  2018-06-10 12:25:00    1413      0  2018      6   10    12      25   \n",
       "4  2018-06-10 12:25:00    5801      0  2018      6   10    12      25   \n",
       "\n",
       "   CardKind  CardLimit            ...              SameLocation  \\\n",
       "0         1          4            ...                         1   \n",
       "1         1          1            ...                         0   \n",
       "2         1          2            ...                         1   \n",
       "3         1          1            ...                         1   \n",
       "4         1          2            ...                         0   \n",
       "\n",
       "   InternationalTransaction  OnlineTransaction  LocalTransaction  \\\n",
       "0                         0                  0                 1   \n",
       "1                         0                  1                 0   \n",
       "2                         0                  0                 1   \n",
       "3                         0                  0                 1   \n",
       "4                         0                  0                 1   \n",
       "\n",
       "   OverAverageAmount  OverAverageCardKindAmount  \\\n",
       "0                  1                          1   \n",
       "1                  0                          0   \n",
       "2                  1                          1   \n",
       "3                  0                          0   \n",
       "4                  1                          1   \n",
       "\n",
       "   OverAverageTerminalKindAmount  OverAverageMerchantAmount  \\\n",
       "0                              1                          1   \n",
       "1                              0                          0   \n",
       "2                              1                          1   \n",
       "3                              0                          0   \n",
       "4                              1                          1   \n",
       "\n",
       "   OverAverageLocationAmount  WithdrawCashUseCreditCard  \n",
       "0                          1                          0  \n",
       "1                          0                          0  \n",
       "2                          1                          0  \n",
       "3                          0                          0  \n",
       "4                          1                          0  \n",
       "\n",
       "[5 rows x 26 columns]"
      ]
     },
     "execution_count": 1,
     "metadata": {},
     "output_type": "execute_result"
    }
   ],
   "source": [
    "import pandas as pd\n",
    "import numpy as np\n",
    "\n",
    "# Read transaction data from log file\n",
    "transaction_data = pd.read_csv(\"data/task3_data.csv\")\n",
    "transaction_data.head()"
   ]
  },
  {
   "cell_type": "code",
   "execution_count": 2,
   "metadata": {
    "collapsed": false
   },
   "outputs": [
    {
     "data": {
      "text/plain": [
       "(11524, 26)"
      ]
     },
     "execution_count": 2,
     "metadata": {},
     "output_type": "execute_result"
    }
   ],
   "source": [
    "transaction_data.shape"
   ]
  },
  {
   "cell_type": "code",
   "execution_count": 3,
   "metadata": {
    "collapsed": false
   },
   "outputs": [
    {
     "data": {
      "text/html": [
       "<div>\n",
       "<table border=\"1\" class=\"dataframe\">\n",
       "  <thead>\n",
       "    <tr style=\"text-align: right;\">\n",
       "      <th></th>\n",
       "      <th>Amount</th>\n",
       "      <th>Class</th>\n",
       "      <th>hour</th>\n",
       "      <th>minute</th>\n",
       "      <th>CardKind</th>\n",
       "      <th>CardLimit</th>\n",
       "      <th>CardHomeLocation</th>\n",
       "      <th>CustomerNo</th>\n",
       "      <th>TerminalKind</th>\n",
       "      <th>TerminalMerchant</th>\n",
       "      <th>...</th>\n",
       "      <th>SameLocation</th>\n",
       "      <th>InternationalTransaction</th>\n",
       "      <th>OnlineTransaction</th>\n",
       "      <th>LocalTransaction</th>\n",
       "      <th>OverAverageAmount</th>\n",
       "      <th>OverAverageCardKindAmount</th>\n",
       "      <th>OverAverageTerminalKindAmount</th>\n",
       "      <th>OverAverageMerchantAmount</th>\n",
       "      <th>OverAverageLocationAmount</th>\n",
       "      <th>WithdrawCashUseCreditCard</th>\n",
       "    </tr>\n",
       "  </thead>\n",
       "  <tbody>\n",
       "    <tr>\n",
       "      <th>7809</th>\n",
       "      <td>3671</td>\n",
       "      <td>0</td>\n",
       "      <td>13</td>\n",
       "      <td>56</td>\n",
       "      <td>1</td>\n",
       "      <td>1</td>\n",
       "      <td>31</td>\n",
       "      <td>71163</td>\n",
       "      <td>1</td>\n",
       "      <td>1</td>\n",
       "      <td>...</td>\n",
       "      <td>1</td>\n",
       "      <td>0</td>\n",
       "      <td>0</td>\n",
       "      <td>1</td>\n",
       "      <td>1</td>\n",
       "      <td>0</td>\n",
       "      <td>1</td>\n",
       "      <td>1</td>\n",
       "      <td>1</td>\n",
       "      <td>0</td>\n",
       "    </tr>\n",
       "    <tr>\n",
       "      <th>5708</th>\n",
       "      <td>9574</td>\n",
       "      <td>0</td>\n",
       "      <td>13</td>\n",
       "      <td>32</td>\n",
       "      <td>1</td>\n",
       "      <td>2</td>\n",
       "      <td>68</td>\n",
       "      <td>57071</td>\n",
       "      <td>1</td>\n",
       "      <td>1</td>\n",
       "      <td>...</td>\n",
       "      <td>1</td>\n",
       "      <td>0</td>\n",
       "      <td>0</td>\n",
       "      <td>1</td>\n",
       "      <td>1</td>\n",
       "      <td>1</td>\n",
       "      <td>1</td>\n",
       "      <td>1</td>\n",
       "      <td>1</td>\n",
       "      <td>0</td>\n",
       "    </tr>\n",
       "    <tr>\n",
       "      <th>9199</th>\n",
       "      <td>2061</td>\n",
       "      <td>0</td>\n",
       "      <td>14</td>\n",
       "      <td>13</td>\n",
       "      <td>1</td>\n",
       "      <td>2</td>\n",
       "      <td>8</td>\n",
       "      <td>42928</td>\n",
       "      <td>0</td>\n",
       "      <td>0</td>\n",
       "      <td>...</td>\n",
       "      <td>1</td>\n",
       "      <td>0</td>\n",
       "      <td>0</td>\n",
       "      <td>1</td>\n",
       "      <td>0</td>\n",
       "      <td>0</td>\n",
       "      <td>0</td>\n",
       "      <td>0</td>\n",
       "      <td>0</td>\n",
       "      <td>0</td>\n",
       "    </tr>\n",
       "    <tr>\n",
       "      <th>10828</th>\n",
       "      <td>4616</td>\n",
       "      <td>0</td>\n",
       "      <td>14</td>\n",
       "      <td>32</td>\n",
       "      <td>1</td>\n",
       "      <td>1</td>\n",
       "      <td>65</td>\n",
       "      <td>24089</td>\n",
       "      <td>0</td>\n",
       "      <td>0</td>\n",
       "      <td>...</td>\n",
       "      <td>1</td>\n",
       "      <td>0</td>\n",
       "      <td>0</td>\n",
       "      <td>1</td>\n",
       "      <td>1</td>\n",
       "      <td>0</td>\n",
       "      <td>1</td>\n",
       "      <td>1</td>\n",
       "      <td>1</td>\n",
       "      <td>0</td>\n",
       "    </tr>\n",
       "    <tr>\n",
       "      <th>8273</th>\n",
       "      <td>1748</td>\n",
       "      <td>0</td>\n",
       "      <td>14</td>\n",
       "      <td>1</td>\n",
       "      <td>1</td>\n",
       "      <td>3</td>\n",
       "      <td>43</td>\n",
       "      <td>745</td>\n",
       "      <td>1</td>\n",
       "      <td>5</td>\n",
       "      <td>...</td>\n",
       "      <td>0</td>\n",
       "      <td>0</td>\n",
       "      <td>1</td>\n",
       "      <td>0</td>\n",
       "      <td>0</td>\n",
       "      <td>0</td>\n",
       "      <td>0</td>\n",
       "      <td>0</td>\n",
       "      <td>0</td>\n",
       "      <td>0</td>\n",
       "    </tr>\n",
       "  </tbody>\n",
       "</table>\n",
       "<p>5 rows × 22 columns</p>\n",
       "</div>"
      ],
      "text/plain": [
       "       Amount  Class  hour  minute  CardKind  CardLimit  CardHomeLocation  \\\n",
       "7809     3671      0    13      56         1          1                31   \n",
       "5708     9574      0    13      32         1          2                68   \n",
       "9199     2061      0    14      13         1          2                 8   \n",
       "10828    4616      0    14      32         1          1                65   \n",
       "8273     1748      0    14       1         1          3                43   \n",
       "\n",
       "       CustomerNo  TerminalKind  TerminalMerchant            ...              \\\n",
       "7809        71163             1                 1            ...               \n",
       "5708        57071             1                 1            ...               \n",
       "9199        42928             0                 0            ...               \n",
       "10828       24089             0                 0            ...               \n",
       "8273          745             1                 5            ...               \n",
       "\n",
       "       SameLocation  InternationalTransaction  OnlineTransaction  \\\n",
       "7809              1                         0                  0   \n",
       "5708              1                         0                  0   \n",
       "9199              1                         0                  0   \n",
       "10828             1                         0                  0   \n",
       "8273              0                         0                  1   \n",
       "\n",
       "       LocalTransaction  OverAverageAmount  OverAverageCardKindAmount  \\\n",
       "7809                  1                  1                          0   \n",
       "5708                  1                  1                          1   \n",
       "9199                  1                  0                          0   \n",
       "10828                 1                  1                          0   \n",
       "8273                  0                  0                          0   \n",
       "\n",
       "       OverAverageTerminalKindAmount  OverAverageMerchantAmount  \\\n",
       "7809                               1                          1   \n",
       "5708                               1                          1   \n",
       "9199                               0                          0   \n",
       "10828                              1                          1   \n",
       "8273                               0                          0   \n",
       "\n",
       "       OverAverageLocationAmount  WithdrawCashUseCreditCard  \n",
       "7809                           1                          0  \n",
       "5708                           1                          0  \n",
       "9199                           0                          0  \n",
       "10828                          1                          0  \n",
       "8273                           0                          0  \n",
       "\n",
       "[5 rows x 22 columns]"
      ]
     },
     "execution_count": 3,
     "metadata": {},
     "output_type": "execute_result"
    }
   ],
   "source": [
    "from sklearn.utils import shuffle\n",
    "\n",
    "transaction_data = transaction_data.drop(['DateTime', 'year', 'month', 'day'], axis=1)\n",
    "transaction_data = shuffle(transaction_data)\n",
    "transaction_data.head()"
   ]
  },
  {
   "cell_type": "code",
   "execution_count": 4,
   "metadata": {
    "collapsed": false
   },
   "outputs": [
    {
     "name": "stdout",
     "output_type": "stream",
     "text": [
      "LR: 0.45 (0.04)\n"
     ]
    },
    {
     "name": "stderr",
     "output_type": "stream",
     "text": [
      "T:\\Continuum\\Anaconda3\\lib\\site-packages\\sklearn\\discriminant_analysis.py:388: UserWarning: Variables are collinear.\n",
      "  warnings.warn(\"Variables are collinear.\")\n",
      "T:\\Continuum\\Anaconda3\\lib\\site-packages\\sklearn\\discriminant_analysis.py:388: UserWarning: Variables are collinear.\n",
      "  warnings.warn(\"Variables are collinear.\")\n",
      "T:\\Continuum\\Anaconda3\\lib\\site-packages\\sklearn\\discriminant_analysis.py:388: UserWarning: Variables are collinear.\n",
      "  warnings.warn(\"Variables are collinear.\")\n",
      "T:\\Continuum\\Anaconda3\\lib\\site-packages\\sklearn\\discriminant_analysis.py:388: UserWarning: Variables are collinear.\n",
      "  warnings.warn(\"Variables are collinear.\")\n",
      "T:\\Continuum\\Anaconda3\\lib\\site-packages\\sklearn\\discriminant_analysis.py:388: UserWarning: Variables are collinear.\n",
      "  warnings.warn(\"Variables are collinear.\")\n"
     ]
    },
    {
     "name": "stdout",
     "output_type": "stream",
     "text": [
      "LDA: 0.39 (0.03)\n",
      "KNN: 0.38 (0.04)\n",
      "CART: 0.54 (0.01)\n",
      "RF: 0.46 (0.04)\n",
      "GB: 0.49 (0.03)\n",
      "AB: 0.48 (0.05)\n",
      "MLP: 0.50 (0.04)\n",
      "NB: 0.22 (0.01)\n",
      "SVM: 0.36 (0.04)\n"
     ]
    },
    {
     "data": {
      "image/png": "[encoded data removed]",
      "text/plain": [
       "<matplotlib.figure.Figure at 0x1e60d911c88>"
      ]
     },
     "metadata": {},
     "output_type": "display_data"
    }
   ],
   "source": [
    "from sklearn.preprocessing import StandardScaler\n",
    "from sklearn.model_selection import KFold\n",
    "from sklearn.model_selection import cross_validate\n",
    "from sklearn.model_selection import cross_val_score\n",
    "from sklearn.linear_model import LogisticRegression\n",
    "from sklearn.discriminant_analysis import LinearDiscriminantAnalysis\n",
    "from sklearn.neighbors import KNeighborsClassifier\n",
    "from sklearn.tree import DecisionTreeClassifier\n",
    "from sklearn.naive_bayes import GaussianNB\n",
    "from sklearn.svm import SVC\n",
    "from sklearn.ensemble import RandomForestClassifier\n",
    "from sklearn.ensemble import GradientBoostingClassifier\n",
    "from sklearn.ensemble import AdaBoostClassifier\n",
    "from sklearn.neural_network import MLPClassifier\n",
    "\n",
    "import matplotlib.pyplot as plt\n",
    "\n",
    "X = transaction_data.drop(['Class'], axis=1)\n",
    "y = transaction_data['Class']\n",
    "\n",
    "scaler = StandardScaler()\n",
    "X_transformed = scaler.fit_transform(X)\n",
    "\n",
    "models = []\n",
    "models.append(('LR', LogisticRegression()))\n",
    "models.append(('LDA', LinearDiscriminantAnalysis()))\n",
    "models.append(('KNN', KNeighborsClassifier()))\n",
    "models.append(('CART', DecisionTreeClassifier()))\n",
    "models.append(('RF', RandomForestClassifier()))\n",
    "models.append(('GB', GradientBoostingClassifier()))\n",
    "models.append(('AB', AdaBoostClassifier()))\n",
    "models.append(('MLP', MLPClassifier()))\n",
    "models.append(('NB', GaussianNB()))\n",
    "models.append(('SVM', SVC()))\n",
    "\n",
    "results = []\n",
    "names = [] \n",
    "for name, model in models:\n",
    "    kfold = KFold(n_splits=5)\n",
    "    cv_results = cross_val_score(model, X_transformed, y, cv=kfold, scoring='f1')\n",
    "    results.append(cv_results)\n",
    "    names.append(name)\n",
    "    print(\"%s: %.2f (%.2f)\" % (name, cv_results.mean(), cv_results.std()))\n",
    "    \n",
    "fig = plt.figure()\n",
    "fig.suptitle('Comparison of Algorithms')\n",
    "ax = fig.add_subplot(111)\n",
    "plt.boxplot(results)\n",
    "ax.set_xticklabels(names)\n",
    "plt.show()"
   ]
  },
  {
   "cell_type": "markdown",
   "metadata": {},
   "source": [
    "### Train/Test(Validation) Split"
   ]
  },
  {
   "cell_type": "code",
   "execution_count": 5,
   "metadata": {
    "collapsed": false
   },
   "outputs": [
    {
     "name": "stdout",
     "output_type": "stream",
     "text": [
      "(9219, 21) (9219,)\n",
      "(2305, 21) (2305,)\n"
     ]
    }
   ],
   "source": [
    "from sklearn.model_selection import train_test_split\n",
    "from sklearn.preprocessing import StandardScaler\n",
    "\n",
    "X = transaction_data.drop(['Class'], axis=1)\n",
    "y = transaction_data['Class']\n",
    "\n",
    "scaler = StandardScaler()\n",
    "X_transformed = scaler.fit_transform(X)\n",
    "#X_transformed = feature_selection_model.transform(X_transformed)\n",
    "X_train, X_test, y_train, y_test = train_test_split(X_transformed, y, test_size=0.2, random_state=0)\n",
    "\n",
    "print(X_train.shape, y_train.shape)\n",
    "print(X_test.shape, y_test.shape)"
   ]
  },
  {
   "cell_type": "markdown",
   "metadata": {},
   "source": [
    "### Build Prediction Model Using Chosen Classification Algorithm"
   ]
  },
  {
   "cell_type": "code",
   "execution_count": 6,
   "metadata": {
    "collapsed": false
   },
   "outputs": [
    {
     "data": {
      "text/plain": [
       "DecisionTreeClassifier(class_weight=None, criterion='gini', max_depth=None,\n",
       "            max_features=None, max_leaf_nodes=None,\n",
       "            min_impurity_decrease=0.0, min_impurity_split=None,\n",
       "            min_samples_leaf=1, min_samples_split=2,\n",
       "            min_weight_fraction_leaf=0.0, presort=False, random_state=None,\n",
       "            splitter='best')"
      ]
     },
     "execution_count": 6,
     "metadata": {},
     "output_type": "execute_result"
    }
   ],
   "source": [
    "model = DecisionTreeClassifier()\n",
    "model.fit(X_train, y_train)"
   ]
  },
  {
   "cell_type": "markdown",
   "metadata": {},
   "source": [
    "### Test Prediction Model"
   ]
  },
  {
   "cell_type": "code",
   "execution_count": 7,
   "metadata": {
    "collapsed": false,
    "scrolled": true
   },
   "outputs": [
    {
     "name": "stdout",
     "output_type": "stream",
     "text": [
      "*****Test*****\n",
      "Accuracy = 0.95\n",
      "             precision    recall  f1-score   support\n",
      "\n",
      "          0       0.97      0.98      0.97      2179\n",
      "          1       0.55      0.52      0.53       126\n",
      "\n",
      "avg / total       0.95      0.95      0.95      2305\n",
      "\n"
     ]
    }
   ],
   "source": [
    "from sklearn.metrics import accuracy_score\n",
    "from sklearn.metrics import classification_report\n",
    "\n",
    "y_test_predicted = model.predict(X_test)\n",
    "\n",
    "accuracy = accuracy_score(y_test, y_test_predicted)\n",
    "\n",
    "print('*****Test*****')\n",
    "print(\"Accuracy = %.2f\" % accuracy)\n",
    "print(classification_report(y_test, y_test_predicted))"
   ]
  },
  {
   "cell_type": "code",
   "execution_count": 8,
   "metadata": {
    "collapsed": false,
    "scrolled": true
   },
   "outputs": [
    {
     "name": "stdout",
     "output_type": "stream",
     "text": [
      "Confusion matrix:\n",
      "[[2126   53]\n",
      " [  61   65]]\n",
      "True Positives (TP) = 65\n",
      "True Negatives (TN) = 2126\n",
      "False Positives (FP) = 53 (Type1 error)\n",
      "False Negatives (FN) = 61 (Type2 error)\n"
     ]
    }
   ],
   "source": [
    "from sklearn.metrics import confusion_matrix\n",
    "\n",
    "results = confusion_matrix(y_test, y_test_predicted)\n",
    "tn, fp, fn, tp = results.ravel()\n",
    "print('Confusion matrix:')\n",
    "print(results)\n",
    "print(\"True Positives (TP) = %d\" % tp)\n",
    "print(\"True Negatives (TN) = %d\" % tn)\n",
    "print(\"False Positives (FP) = %d (Type1 error)\" % fp)\n",
    "print(\"False Negatives (FN) = %d (Type2 error)\" % fn)"
   ]
  },
  {
   "cell_type": "markdown",
   "metadata": {},
   "source": [
    "### Feature Importances"
   ]
  },
  {
   "cell_type": "code",
   "execution_count": 9,
   "metadata": {
    "collapsed": false
   },
   "outputs": [
    {
     "data": {
      "image/png": "[encoded data removed]",
      "text/plain": [
       "<matplotlib.figure.Figure at 0x1e60aee3470>"
      ]
     },
     "metadata": {},
     "output_type": "display_data"
    },
    {
     "data": {
      "text/html": [
       "<div>\n",
       "<table border=\"1\" class=\"dataframe\">\n",
       "  <thead>\n",
       "    <tr style=\"text-align: right;\">\n",
       "      <th></th>\n",
       "      <th>Feature</th>\n",
       "      <th>Importance Score</th>\n",
       "    </tr>\n",
       "  </thead>\n",
       "  <tbody>\n",
       "    <tr>\n",
       "      <th>0</th>\n",
       "      <td>Amount</td>\n",
       "      <td>0.211093</td>\n",
       "    </tr>\n",
       "    <tr>\n",
       "      <th>11</th>\n",
       "      <td>SameLocation</td>\n",
       "      <td>0.190889</td>\n",
       "    </tr>\n",
       "    <tr>\n",
       "      <th>9</th>\n",
       "      <td>TerminalLocation</td>\n",
       "      <td>0.115459</td>\n",
       "    </tr>\n",
       "    <tr>\n",
       "      <th>6</th>\n",
       "      <td>CustomerNo</td>\n",
       "      <td>0.095398</td>\n",
       "    </tr>\n",
       "    <tr>\n",
       "      <th>4</th>\n",
       "      <td>CardLimit</td>\n",
       "      <td>0.094390</td>\n",
       "    </tr>\n",
       "    <tr>\n",
       "      <th>10</th>\n",
       "      <td>TerminalNo</td>\n",
       "      <td>0.076831</td>\n",
       "    </tr>\n",
       "    <tr>\n",
       "      <th>5</th>\n",
       "      <td>CardHomeLocation</td>\n",
       "      <td>0.073259</td>\n",
       "    </tr>\n",
       "    <tr>\n",
       "      <th>2</th>\n",
       "      <td>minute</td>\n",
       "      <td>0.066501</td>\n",
       "    </tr>\n",
       "  </tbody>\n",
       "</table>\n",
       "</div>"
      ],
      "text/plain": [
       "             Feature  Importance Score\n",
       "0             Amount          0.211093\n",
       "11      SameLocation          0.190889\n",
       "9   TerminalLocation          0.115459\n",
       "6         CustomerNo          0.095398\n",
       "4          CardLimit          0.094390\n",
       "10        TerminalNo          0.076831\n",
       "5   CardHomeLocation          0.073259\n",
       "2             minute          0.066501"
      ]
     },
     "execution_count": 9,
     "metadata": {},
     "output_type": "execute_result"
    }
   ],
   "source": [
    "from sklearn.feature_selection import SelectFromModel\n",
    "\n",
    "X = transaction_data.drop(['Class'], axis=1)\n",
    "y = transaction_data['Class']\n",
    "\n",
    "feature_list = list(X)\n",
    "\n",
    "feature_model = DecisionTreeClassifier()\n",
    "feature_model = feature_model.fit(X, y)\n",
    "\n",
    "feat_imp = pd.Series(feature_model.feature_importances_, feature_list).sort_values(ascending=False)\n",
    "feat_imp.plot(kind='bar')\n",
    "plt.xlabel('Feature')\n",
    "plt.ylabel('Feature Importance')\n",
    "plt.show()\n",
    "\n",
    "feature_selection_data = pd.DataFrame(\n",
    "    {'Feature': feature_list,\n",
    "     'Importance Score': feature_model.feature_importances_ \n",
    "    })\n",
    "\n",
    "feature_selection_model = SelectFromModel(feature_model, prefit=True)\n",
    "X_transformed = feature_selection_model.transform(X)\n",
    "\n",
    "selected_features = feature_selection_data.sort_values(by='Importance Score', ascending=False)\n",
    "selected_features.head(X_transformed.shape[1])"
   ]
  },
  {
   "cell_type": "markdown",
   "metadata": {},
   "source": [
    "### Balanced dataset"
   ]
  },
  {
   "cell_type": "code",
   "execution_count": 10,
   "metadata": {
    "collapsed": false
   },
   "outputs": [
    {
     "name": "stdout",
     "output_type": "stream",
     "text": [
      "Number of fraudulents = 607\n",
      "Number of not fraudulents = 607\n",
      "Fraudulent ratio = 0.5000\n",
      "Fraudulent percentege = 50.00%\n"
     ]
    },
    {
     "data": {
      "image/png": "[encoded data removed]",
      "text/plain": [
       "<matplotlib.figure.Figure at 0x1e60b014f28>"
      ]
     },
     "metadata": {},
     "output_type": "display_data"
    }
   ],
   "source": [
    "transaction_data_fraud = transaction_data[transaction_data.Class == 1]\n",
    "number_of_fraudulents = transaction_data_fraud.shape[0]\n",
    "transaction_data_normal = transaction_data[transaction_data.Class == 0].sample(n = number_of_fraudulents)\n",
    "number_of_not_fraudulents = transaction_data_normal.shape[0]\n",
    " \n",
    "frames = [transaction_data_fraud, transaction_data_normal]\n",
    "balanced_transaction_data = pd.concat(frames)\n",
    "number_of_observations = balanced_transaction_data.shape[0]\n",
    "fraudulent_ratio = number_of_fraudulents / float(number_of_observations)\n",
    " \n",
    "print('Number of fraudulents = {0}'.format(number_of_fraudulents))\n",
    "print('Number of not fraudulents = {0}'.format(number_of_not_fraudulents))\n",
    "print('Fraudulent ratio = {0:.4f}'.format(fraudulent_ratio))\n",
    "print('Fraudulent percentege = {0:.2f}%'.format(fraudulent_ratio * 100))\n",
    " \n",
    "number_of_is_attributed = balanced_transaction_data['Class'].value_counts()\n",
    "number_of_is_attributed.plot(kind='pie')\n",
    "plt.show()"
   ]
  },
  {
   "cell_type": "code",
   "execution_count": 11,
   "metadata": {
    "collapsed": false
   },
   "outputs": [
    {
     "name": "stdout",
     "output_type": "stream",
     "text": [
      "LR: 0.82 (0.03)\n",
      "LDA: 0.77 (0.04)\n",
      "KNN: 0.69 (0.03)\n",
      "CART: 0.86 (0.04)\n"
     ]
    },
    {
     "name": "stderr",
     "output_type": "stream",
     "text": [
      "T:\\Continuum\\Anaconda3\\lib\\site-packages\\sklearn\\discriminant_analysis.py:388: UserWarning: Variables are collinear.\n",
      "  warnings.warn(\"Variables are collinear.\")\n",
      "T:\\Continuum\\Anaconda3\\lib\\site-packages\\sklearn\\discriminant_analysis.py:388: UserWarning: Variables are collinear.\n",
      "  warnings.warn(\"Variables are collinear.\")\n",
      "T:\\Continuum\\Anaconda3\\lib\\site-packages\\sklearn\\discriminant_analysis.py:388: UserWarning: Variables are collinear.\n",
      "  warnings.warn(\"Variables are collinear.\")\n",
      "T:\\Continuum\\Anaconda3\\lib\\site-packages\\sklearn\\discriminant_analysis.py:388: UserWarning: Variables are collinear.\n",
      "  warnings.warn(\"Variables are collinear.\")\n",
      "T:\\Continuum\\Anaconda3\\lib\\site-packages\\sklearn\\discriminant_analysis.py:388: UserWarning: Variables are collinear.\n",
      "  warnings.warn(\"Variables are collinear.\")\n"
     ]
    },
    {
     "name": "stdout",
     "output_type": "stream",
     "text": [
      "RF: 0.84 (0.04)\n",
      "GB: 0.89 (0.02)\n",
      "AB: 0.86 (0.03)\n"
     ]
    },
    {
     "name": "stderr",
     "output_type": "stream",
     "text": [
      "T:\\Continuum\\Anaconda3\\lib\\site-packages\\sklearn\\neural_network\\multilayer_perceptron.py:564: ConvergenceWarning: Stochastic Optimizer: Maximum iterations (200) reached and the optimization hasn't converged yet.\n",
      "  % self.max_iter, ConvergenceWarning)\n",
      "T:\\Continuum\\Anaconda3\\lib\\site-packages\\sklearn\\neural_network\\multilayer_perceptron.py:564: ConvergenceWarning: Stochastic Optimizer: Maximum iterations (200) reached and the optimization hasn't converged yet.\n",
      "  % self.max_iter, ConvergenceWarning)\n",
      "T:\\Continuum\\Anaconda3\\lib\\site-packages\\sklearn\\neural_network\\multilayer_perceptron.py:564: ConvergenceWarning: Stochastic Optimizer: Maximum iterations (200) reached and the optimization hasn't converged yet.\n",
      "  % self.max_iter, ConvergenceWarning)\n",
      "T:\\Continuum\\Anaconda3\\lib\\site-packages\\sklearn\\neural_network\\multilayer_perceptron.py:564: ConvergenceWarning: Stochastic Optimizer: Maximum iterations (200) reached and the optimization hasn't converged yet.\n",
      "  % self.max_iter, ConvergenceWarning)\n",
      "T:\\Continuum\\Anaconda3\\lib\\site-packages\\sklearn\\neural_network\\multilayer_perceptron.py:564: ConvergenceWarning: Stochastic Optimizer: Maximum iterations (200) reached and the optimization hasn't converged yet.\n",
      "  % self.max_iter, ConvergenceWarning)\n"
     ]
    },
    {
     "name": "stdout",
     "output_type": "stream",
     "text": [
      "MLP: 0.81 (0.03)\n",
      "NB: 0.69 (0.23)\n",
      "SVM: 0.71 (0.05)\n"
     ]
    },
    {
     "data": {
      "image/png": "[encoded data removed]",
      "text/plain": [
       "<matplotlib.figure.Figure at 0x1e60aee55f8>"
      ]
     },
     "metadata": {},
     "output_type": "display_data"
    }
   ],
   "source": [
    "X = balanced_transaction_data.drop(['Class'], axis=1)\n",
    "y = balanced_transaction_data['Class']\n",
    "\n",
    "scaler = StandardScaler()\n",
    "X_transformed = scaler.fit_transform(X)\n",
    "\n",
    "models = []\n",
    "models.append(('LR', LogisticRegression()))\n",
    "models.append(('LDA', LinearDiscriminantAnalysis()))\n",
    "models.append(('KNN', KNeighborsClassifier()))\n",
    "models.append(('CART', DecisionTreeClassifier()))\n",
    "models.append(('RF', RandomForestClassifier()))\n",
    "models.append(('GB', GradientBoostingClassifier()))\n",
    "models.append(('AB', AdaBoostClassifier()))\n",
    "models.append(('MLP', MLPClassifier()))\n",
    "models.append(('NB', GaussianNB()))\n",
    "models.append(('SVM', SVC()))\n",
    "\n",
    "results = []\n",
    "names = [] \n",
    "for name, model in models:\n",
    "    kfold = KFold(n_splits=5)\n",
    "    cv_results = cross_val_score(model, X_transformed, y, cv=kfold, scoring='accuracy')\n",
    "    results.append(cv_results)\n",
    "    names.append(name)\n",
    "    print(\"%s: %.2f (%.2f)\" % (name, cv_results.mean(), cv_results.std()))\n",
    "    \n",
    "fig = plt.figure()\n",
    "fig.suptitle('Comparison of Algorithms')\n",
    "ax = fig.add_subplot(111)\n",
    "plt.boxplot(results)\n",
    "ax.set_xticklabels(names)\n",
    "plt.show()"
   ]
  },
  {
   "cell_type": "code",
   "execution_count": 12,
   "metadata": {
    "collapsed": false
   },
   "outputs": [
    {
     "name": "stdout",
     "output_type": "stream",
     "text": [
      "*****Test*****\n",
      "Accuracy = 0.91\n",
      "             precision    recall  f1-score   support\n",
      "\n",
      "          0       0.94      0.89      0.92       128\n",
      "          1       0.89      0.94      0.91       115\n",
      "\n",
      "avg / total       0.92      0.91      0.91       243\n",
      "\n"
     ]
    }
   ],
   "source": [
    "X = balanced_transaction_data.drop(['Class'], axis=1)\n",
    "y = balanced_transaction_data['Class']\n",
    "\n",
    "scaler = StandardScaler()\n",
    "X_transformed = scaler.fit_transform(X)\n",
    "#X_transformed = feature_selection_model.transform(X_transformed)\n",
    "X_train, X_test, y_train, y_test = train_test_split(X_transformed, y, test_size=0.2, random_state=0)\n",
    "\n",
    "model = GradientBoostingClassifier()\n",
    "model.fit(X_train, y_train)\n",
    "\n",
    "y_test_predicted = model.predict(X_test)\n",
    "\n",
    "accuracy = accuracy_score(y_test, y_test_predicted)\n",
    "\n",
    "print('*****Test*****')\n",
    "print(\"Accuracy = %.2f\" % accuracy)\n",
    "print(classification_report(y_test, y_test_predicted))"
   ]
  },
  {
   "cell_type": "code",
   "execution_count": 13,
   "metadata": {
    "collapsed": false
   },
   "outputs": [
    {
     "name": "stdout",
     "output_type": "stream",
     "text": [
      "Confusion matrix:\n",
      "[[114  14]\n",
      " [  7 108]]\n",
      "True Positives (TP) = 108\n",
      "True Negatives (TN) = 114\n",
      "False Positives (FP) = 14 (Type1 error)\n",
      "False Negatives (FN) = 7 (Type2 error)\n"
     ]
    }
   ],
   "source": [
    "results = confusion_matrix(y_test, y_test_predicted)\n",
    "tn, fp, fn, tp = results.ravel()\n",
    "print('Confusion matrix:')\n",
    "print(results)\n",
    "print(\"True Positives (TP) = %d\" % tp)\n",
    "print(\"True Negatives (TN) = %d\" % tn)\n",
    "print(\"False Positives (FP) = %d (Type1 error)\" % fp)\n",
    "print(\"False Negatives (FN) = %d (Type2 error)\" % fn)"
   ]
  },
  {
   "cell_type": "code",
   "execution_count": 14,
   "metadata": {
    "collapsed": false
   },
   "outputs": [
    {
     "data": {
      "image/png": "[encoded data removed]",
      "text/plain": [
       "<matplotlib.figure.Figure at 0x1e60b05f400>"
      ]
     },
     "metadata": {},
     "output_type": "display_data"
    },
    {
     "data": {
      "text/html": [
       "<div>\n",
       "<table border=\"1\" class=\"dataframe\">\n",
       "  <thead>\n",
       "    <tr style=\"text-align: right;\">\n",
       "      <th></th>\n",
       "      <th>Feature</th>\n",
       "      <th>Importance Score</th>\n",
       "    </tr>\n",
       "  </thead>\n",
       "  <tbody>\n",
       "    <tr>\n",
       "      <th>0</th>\n",
       "      <td>Amount</td>\n",
       "      <td>0.456583</td>\n",
       "    </tr>\n",
       "    <tr>\n",
       "      <th>9</th>\n",
       "      <td>TerminalLocation</td>\n",
       "      <td>0.100580</td>\n",
       "    </tr>\n",
       "    <tr>\n",
       "      <th>6</th>\n",
       "      <td>CustomerNo</td>\n",
       "      <td>0.086900</td>\n",
       "    </tr>\n",
       "    <tr>\n",
       "      <th>11</th>\n",
       "      <td>SameLocation</td>\n",
       "      <td>0.082186</td>\n",
       "    </tr>\n",
       "    <tr>\n",
       "      <th>5</th>\n",
       "      <td>CardHomeLocation</td>\n",
       "      <td>0.058113</td>\n",
       "    </tr>\n",
       "    <tr>\n",
       "      <th>10</th>\n",
       "      <td>TerminalNo</td>\n",
       "      <td>0.056411</td>\n",
       "    </tr>\n",
       "  </tbody>\n",
       "</table>\n",
       "</div>"
      ],
      "text/plain": [
       "             Feature  Importance Score\n",
       "0             Amount          0.456583\n",
       "9   TerminalLocation          0.100580\n",
       "6         CustomerNo          0.086900\n",
       "11      SameLocation          0.082186\n",
       "5   CardHomeLocation          0.058113\n",
       "10        TerminalNo          0.056411"
      ]
     },
     "execution_count": 14,
     "metadata": {},
     "output_type": "execute_result"
    }
   ],
   "source": [
    "X = balanced_transaction_data.drop(['Class'], axis=1)\n",
    "y = balanced_transaction_data['Class']\n",
    "\n",
    "feature_list = list(X)\n",
    "\n",
    "feature_model = GradientBoostingClassifier()\n",
    "feature_model = feature_model.fit(X, y)\n",
    "\n",
    "feat_imp = pd.Series(feature_model.feature_importances_, feature_list).sort_values(ascending=False)\n",
    "feat_imp.plot(kind='bar')\n",
    "plt.xlabel('Feature')\n",
    "plt.ylabel('Feature Importance')\n",
    "plt.show()\n",
    "\n",
    "feature_selection_data = pd.DataFrame(\n",
    "    {'Feature': feature_list,\n",
    "     'Importance Score': feature_model.feature_importances_ \n",
    "    })\n",
    "\n",
    "feature_selection_model = SelectFromModel(feature_model, prefit=True)\n",
    "X_transformed = feature_selection_model.transform(X)\n",
    "\n",
    "selected_features = feature_selection_data.sort_values(by='Importance Score', ascending=False)\n",
    "selected_features.head(X_transformed.shape[1])"
   ]
  }
 ],
 "metadata": {
  "anaconda-cloud": {},
  "kernelspec": {
   "display_name": "Python [conda root]",
   "language": "python",
   "name": "conda-root-py"
  },
  "language_info": {
   "codemirror_mode": {
    "name": "ipython",
    "version": 3
   },
   "file_extension": ".py",
   "mimetype": "text/x-python",
   "name": "python",
   "nbconvert_exporter": "python",
   "pygments_lexer": "ipython3",
   "version": "3.5.2"
  }
 },
 "nbformat": 4,
 "nbformat_minor": 1
}
